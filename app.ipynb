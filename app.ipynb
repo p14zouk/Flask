{
 "cells": [
  {
   "cell_type": "code",
   "execution_count": 3,
   "metadata": {
    "scrolled": true
   },
   "outputs": [
    {
     "name": "stdout",
     "output_type": "stream",
     "text": [
      " * Serving Flask app \"__main__\" (lazy loading)\n",
      " * Environment: production\n",
      "   WARNING: This is a development server. Do not use it in a production deployment.\n",
      "   Use a production WSGI server instead.\n",
      " * Debug mode: off\n"
     ]
    },
    {
     "name": "stderr",
     "output_type": "stream",
     "text": [
      " * Running on http://127.0.0.1:4555/ (Press CTRL+C to quit)\n",
      "127.0.0.1 - - [11/Nov/2020 13:34:00] \"\u001b[37mGET / HTTP/1.1\u001b[0m\" 200 -\n",
      "127.0.0.1 - - [11/Nov/2020 13:34:23] \"\u001b[37mPOST /upload HTTP/1.1\u001b[0m\" 200 -\n",
      "127.0.0.1 - - [11/Nov/2020 13:34:23] \"\u001b[37mGET /upload/0_6.jpg HTTP/1.1\u001b[0m\" 200 -\n"
     ]
    },
    {
     "name": "stdout",
     "output_type": "stream",
     "text": [
      "C:\\Users\\Zouki\\Flask Folder Try 2\\images/\n",
      "Couldn't create upload directory: C:\\Users\\Zouki\\Flask Folder Try 2\\images/\n",
      "[<FileStorage: '0_0.jpg' ('image/jpeg')>, <FileStorage: '0_1.jpg' ('image/jpeg')>, <FileStorage: '0_2.jpg' ('image/jpeg')>, <FileStorage: '0_3.jpg' ('image/jpeg')>, <FileStorage: '0_4.jpg' ('image/jpeg')>, <FileStorage: '0_5.jpg' ('image/jpeg')>, <FileStorage: '0_6.jpg' ('image/jpeg')>]\n",
      "<FileStorage: '0_0.jpg' ('image/jpeg')>\n",
      "0_0.jpg is the file name\n",
      "Accept incoming file: 0_0.jpg\n",
      "Save it to: C:\\Users\\Zouki\\Flask Folder Try 2\\images//0_0.jpg\n",
      "<FileStorage: '0_1.jpg' ('image/jpeg')>\n",
      "0_1.jpg is the file name\n",
      "Accept incoming file: 0_1.jpg\n",
      "Save it to: C:\\Users\\Zouki\\Flask Folder Try 2\\images//0_1.jpg\n",
      "<FileStorage: '0_2.jpg' ('image/jpeg')>\n",
      "0_2.jpg is the file name\n",
      "Accept incoming file: 0_2.jpg\n",
      "Save it to: C:\\Users\\Zouki\\Flask Folder Try 2\\images//0_2.jpg\n",
      "<FileStorage: '0_3.jpg' ('image/jpeg')>\n",
      "0_3.jpg is the file name\n",
      "Accept incoming file: 0_3.jpg\n",
      "Save it to: C:\\Users\\Zouki\\Flask Folder Try 2\\images//0_3.jpg\n",
      "<FileStorage: '0_4.jpg' ('image/jpeg')>\n",
      "0_4.jpg is the file name\n",
      "Accept incoming file: 0_4.jpg\n",
      "Save it to: C:\\Users\\Zouki\\Flask Folder Try 2\\images//0_4.jpg\n",
      "<FileStorage: '0_5.jpg' ('image/jpeg')>\n",
      "0_5.jpg is the file name\n",
      "Accept incoming file: 0_5.jpg\n",
      "Save it to: C:\\Users\\Zouki\\Flask Folder Try 2\\images//0_5.jpg\n",
      "<FileStorage: '0_6.jpg' ('image/jpeg')>\n",
      "0_6.jpg is the file name\n",
      "Accept incoming file: 0_6.jpg\n",
      "Save it to: C:\\Users\\Zouki\\Flask Folder Try 2\\images//0_6.jpg\n"
     ]
    },
    {
     "name": "stderr",
     "output_type": "stream",
     "text": [
      "127.0.0.1 - - [11/Nov/2020 13:34:30] \"\u001b[37mGET /gallery HTTP/1.1\u001b[0m\" 200 -\n",
      "127.0.0.1 - - [11/Nov/2020 13:34:30] \"\u001b[37mGET /upload/0_5.jpg HTTP/1.1\u001b[0m\" 200 -\n",
      "127.0.0.1 - - [11/Nov/2020 13:34:30] \"\u001b[37mGET /upload/0_4.jpg HTTP/1.1\u001b[0m\" 200 -\n"
     ]
    },
    {
     "name": "stdout",
     "output_type": "stream",
     "text": [
      "['0_0.jpg', '0_1.jpg', '0_2.jpg', '0_3.jpg', '0_4.jpg', '0_5.jpg', '0_6.jpg']\n"
     ]
    }
   ],
   "source": [
    "import os\n",
    "\n",
    "\n",
    "from flask import Flask, request, render_template, send_from_directory\n",
    "\n",
    "app = Flask(__name__)\n",
    "\n",
    "\n",
    "\n",
    "APP_ROOT = os.path.dirname(os.path.abspath(\"__file__\"))\n",
    "\n",
    "@app.route(\"/\")\n",
    "def index():\n",
    "    return render_template(\"upload.html\")\n",
    "\n",
    "@app.route(\"/upload\", methods=[\"POST\"])\n",
    "def upload():\n",
    "    target = os.path.join(APP_ROOT, 'images/')\n",
    "    print(target)\n",
    "    if not os.path.isdir(target):\n",
    "            os.mkdir(target)\n",
    "    else:\n",
    "        print(\"Couldn't create upload directory: {}\".format(target))\n",
    "    print(request.files.getlist(\"file\"))\n",
    "    for upload in request.files.getlist(\"file\"):\n",
    "        print(upload)\n",
    "        print(\"{} is the file name\".format(upload.filename))\n",
    "        filename = upload.filename\n",
    "        destination = \"/\".join([target, filename])\n",
    "        print (\"Accept incoming file:\", filename)\n",
    "        print (\"Save it to:\", destination)\n",
    "        upload.save(destination)\n",
    "\n",
    "    # return send_from_directory(\"images\", filename, as_attachment=True)\n",
    "    return render_template(\"complete.html\", image_name=filename)\n",
    "\n",
    "@app.route('/upload/<filename>')\n",
    "def send_image(filename):\n",
    "    return send_from_directory(\"images\", filename)\n",
    "\n",
    "@app.route('/gallery')\n",
    "def get_gallery():\n",
    "    image_names = os.listdir('./images')\n",
    "    print(image_names)\n",
    "    return render_template(\"gallery.html\", image_names=image_names)\n",
    "\n",
    "if __name__ == \"__main__\":\n",
    "    app.run(port=4555, debug=False)"
   ]
  },
  {
   "cell_type": "code",
   "execution_count": null,
   "metadata": {},
   "outputs": [],
   "source": []
  }
 ],
 "metadata": {
  "kernelspec": {
   "display_name": "Python 3",
   "language": "python",
   "name": "python3"
  },
  "language_info": {
   "codemirror_mode": {
    "name": "ipython",
    "version": 3
   },
   "file_extension": ".py",
   "mimetype": "text/x-python",
   "name": "python",
   "nbconvert_exporter": "python",
   "pygments_lexer": "ipython3",
   "version": "3.7.9"
  }
 },
 "nbformat": 4,
 "nbformat_minor": 4
}
